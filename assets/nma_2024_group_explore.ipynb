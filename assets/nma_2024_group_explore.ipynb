{
 "cells": [
  {
   "cell_type": "markdown",
   "id": "186ef343-7a06-4a5d-969f-a9474251a79b",
   "metadata": {
    "jp-MarkdownHeadingCollapsed": true
   },
   "source": [
    "# Predicting Trial Outcomes, by Stupidmouse et. al."
   ]
  },
  {
   "cell_type": "markdown",
   "id": "7dee4b36-8f0f-4c1c-8370-d0f930a15e94",
   "metadata": {},
   "source": [
    "- Mukund Mauji\n",
    "- Zoë Scott\n",
    "- Yuki Yanagita\n",
    "- Sadiq Mobeen"
   ]
  },
  {
   "cell_type": "markdown",
   "id": "3c01c0d7-f7e6-41df-ad40-f0fb1b4d141d",
   "metadata": {},
   "source": [
    "<img src='./funky-mouse-photo.png'>\n"
   ]
  },
  {
   "cell_type": "markdown",
   "id": "26db416d-8c05-4822-9a7e-f2b8ce8d5949",
   "metadata": {
    "jp-MarkdownHeadingCollapsed": true
   },
   "source": [
    "# The question (Zoe)"
   ]
  },
  {
   "cell_type": "markdown",
   "id": "23cfde6e-ff5c-4876-9ab4-f485c5bff63e",
   "metadata": {
    "jp-MarkdownHeadingCollapsed": true
   },
   "source": [
    "### Abstract"
   ]
  },
  {
   "cell_type": "markdown",
   "id": "8ecbe69d-38d2-4948-b24f-7adf5e605070",
   "metadata": {},
   "source": [
    "Even on a simple visual change detection task, on which perfect performance seems possible, mice routinely commit errors. Previous studies have shown that spike rates during stimulus onset in the primary visual cortex determine whether mice will detect a stimulus change (Cone at al. 2020). However, neural activity preceding the stimulus onset might modulate change detection as well. Furthermore, the mouse’s behavior preceding stimulus onset might influence its performance on the task. Therefore, it was examined whether neuronal activity and behavior before the onset of a stimulus can predict the trial outcome. We hypothesized that neural activation (from excitatory and inhibitory neurons in primary visual cortex), as well as behavioral variables (movement and pupil traces) preceding stimulus onset would allow us to predict post-hoc whether a mouse made an error in the task. Here, we fitted neural traces, behavior, and task variables such as reward history and stimulus novelty to a multinomial logistic regression model to classify trial outcomes into hits, correct rejections, misses, and false alarms. We found that classification performance was highest when using predictors a, b, c, while the predictors x,y,z turned out to have no predictive power. We conclude that trial outcomes, and specifically errors, are correlated with neural and behavioral processes preceding the onset of the visual target. Future research could examine the causal role of the identified predictors by selectively perturbing neural activity, for example using optogenetics or reversible brain stimulation. "
   ]
  },
  {
   "cell_type": "markdown",
   "id": "10c93552-9878-4d5d-b74b-03f7e7483fce",
   "metadata": {
    "jp-MarkdownHeadingCollapsed": true
   },
   "source": [
    "## The dataset and experimental setup"
   ]
  },
  {
   "cell_type": "markdown",
   "id": "a8127027-cdf4-4a91-84fd-32c896d7eddf",
   "metadata": {},
   "source": [
    "### Mouse task"
   ]
  },
  {
   "cell_type": "markdown",
   "id": "3abce19e-2005-4455-b187-5387c7c1e79e",
   "metadata": {},
   "source": [
    "<img src=\"https://allenswdb.github.io/_images/change_detection_task.png\">"
   ]
  },
  {
   "cell_type": "markdown",
   "id": "f880925a-7c5f-4219-9bc1-3eef122cff8a",
   "metadata": {},
   "source": [
    "## Phenomena, Question, Goal"
   ]
  },
  {
   "cell_type": "markdown",
   "id": "13170c7b-8378-4692-abba-3deda08e228e",
   "metadata": {
    "jp-MarkdownHeadingCollapsed": true
   },
   "source": [
    "**Phenomena**\n",
    "\n",
    "Why is the mouse making false alarms and misses?\n",
    "\n",
    "**Question**\n",
    "\n",
    "Which variables are correlated with the mouse making an error?\n",
    "\n",
    "**Goal**\n",
    "\n",
    "Our goal is to see if errors can be predicted solely by data collected from the mouse, before stimulus onset, using neural and behavioral data?"
   ]
  },
  {
   "cell_type": "markdown",
   "id": "50bb8866-601f-4e2f-8697-1ee429324c6b",
   "metadata": {},
   "source": [
    "<img src=\"https://allenswdb.github.io/_images/Trial_diagram.png\">"
   ]
  },
  {
   "cell_type": "markdown",
   "id": "fe62b0bf-914a-41b7-ba51-468f34ed591d",
   "metadata": {},
   "source": [
    "## Model setup"
   ]
  },
  {
   "cell_type": "markdown",
   "id": "75dcba21-009e-4b57-81af-591a41064f9d",
   "metadata": {},
   "source": [
    "We used a multinomial logistic regression to model the relationship between 4 categorical dependent variables (the four possible trial outcomes) and one or more independent variables. \n",
    "\n",
    "The probability of observing each category of the dependent variable is modeled using the softmax function, which ensures that the predicted probabilities sum to one. The probability $P(y_i = k \\mid \\mathbf{x}_i)$ of the $i$-th observation belonging to category $k$ is given by:\n",
    "\n",
    "$$ P(y_i = k \\mid \\mathbf{x}_i) = \\frac{\\exp(\\mathbf{w}_k \\cdot \\mathbf{x}_i)}{\\sum_{j=1}^{K} \\exp(\\mathbf{w}_j \\cdot \\mathbf{x}_i)} $$\n",
    "\n",
    "where $\\mathbf{w}_k$ represents the coefficients for category $k$, $\\mathbf{x}_i$ is the feature vector for the $i$-th observation, and $K$ is the total number of categories. This approach allows us to predict the probabilities of each category based on the features of the input data."
   ]
  },
  {
   "cell_type": "markdown",
   "id": "a4296182-2e09-4ea4-807e-cfa2de0cc52c",
   "metadata": {},
   "source": [
    "## Trial details (Yuki)"
   ]
  },
  {
   "cell_type": "markdown",
   "id": "6958fb80-4de4-49fe-8730-83005ca4b0a8",
   "metadata": {},
   "source": [
    "<img src=\"https://allenswdb.github.io/_images/vbo_experimental_design_sessions.png\">"
   ]
  },
  {
   "cell_type": "markdown",
   "id": "b9cc435d-2329-404c-9c85-0b1460be7b80",
   "metadata": {},
   "source": [
    "# Preamble "
   ]
  },
  {
   "cell_type": "code",
   "execution_count": 24,
   "id": "d9dcf57c",
   "metadata": {
    "papermill": {
     "duration": 4.941014,
     "end_time": "2023-11-30T06:08:41.801025",
     "exception": false,
     "start_time": "2023-11-30T06:08:36.860011",
     "status": "completed"
    },
    "pycharm": {
     "name": "#%%\n"
    },
    "tags": []
   },
   "outputs": [
    {
     "name": "stdout",
     "output_type": "stream",
     "text": [
      "allensdk version 2.10.2 or higher is required, you have 2.16.2 installed\n"
     ]
    }
   ],
   "source": [
    "import matplotlib.pyplot as plt\n",
    "import seaborn as sns\n",
    "from pathlib import Path\n",
    "import numpy as np\n",
    "import pandas as pd\n",
    "from tqdm.notebook import tqdm\n",
    "import concurrent.futures\n",
    "import sys, copy\n",
    "from pprint import pprint\n",
    "from sklearn.preprocessing import OneHotEncoder\n",
    "import itertools\n",
    "import copy\n",
    "\n",
    "import sklearn\n",
    "from sklearn import linear_model\n",
    "from sklearn.metrics import confusion_matrix, accuracy_score\n",
    "from sklearn.preprocessing import label_binarize, LabelBinarizer\n",
    "from sklearn.ensemble import RandomForestClassifier\n",
    "from sklearn.preprocessing import OneHotEncoder\n",
    "from sklearn.metrics import accuracy_score, confusion_matrix, classification_report, mean_squared_error\n",
    "from sklearn.metrics import RocCurveDisplay, ConfusionMatrixDisplay\n",
    "from sklearn.model_selection import train_test_split\n",
    "\n",
    "from xgboost import XGBClassifier\n",
    "\n",
    "from scipy.special import softmax\n",
    "\n",
    "pd.set_option('display.max_columns', 500)\n",
    "\n",
    "import allensdk.brain_observatory.behavior.behavior_project_cache as bpc\n",
    "\n",
    "import allensdk\n",
    "print('allensdk version 2.10.2 or higher is required, you have {} installed'.format(allensdk.__version__))"
   ]
  },
  {
   "cell_type": "code",
   "execution_count": 5,
   "id": "96901062",
   "metadata": {
    "papermill": {
     "duration": 0.020839,
     "end_time": "2023-11-30T06:08:41.831672",
     "exception": false,
     "start_time": "2023-11-30T06:08:41.810833",
     "status": "completed"
    },
    "pycharm": {
     "name": "#%%\n"
    },
    "tags": []
   },
   "outputs": [],
   "source": [
    "%matplotlib inline"
   ]
  },
  {
   "cell_type": "code",
   "execution_count": 6,
   "id": "f9fb73be",
   "metadata": {
    "papermill": {
     "duration": 8.064695,
     "end_time": "2023-11-30T06:08:49.997376",
     "exception": false,
     "start_time": "2023-11-30T06:08:41.932681",
     "status": "completed"
    },
    "pycharm": {
     "name": "#%%\n"
    },
    "tags": []
   },
   "outputs": [
    {
     "name": "stderr",
     "output_type": "stream",
     "text": [
      "/Users/mukund/dev/nma/venv/lib/python3.11/site-packages/allensdk/brain_observatory/behavior/behavior_project_cache/behavior_project_cache.py:135: UpdatedStimulusPresentationTableWarning: \n",
      "\tAs of AllenSDK version 2.16.0, the latest Visual Behavior Ophys data has been significantly updated from previous releases. Specifically the user will need to update all processing of the stimulus_presentations tables. These tables now include multiple stimulus types delineated by the columns `stimulus_block` and `stimulus_block_name`.\n",
      "\n",
      "The data that was available in previous releases are stored in the block name containing 'change_detection' and can be accessed in the pandas table by using: \n",
      "\t`stimulus_presentations[stimulus_presentations.stimulus_block_name.str.contains('change_detection')]`\n",
      "  warnings.warn(\n"
     ]
    }
   ],
   "source": [
    "output_dir = Path(\"~/.cache/allensdk/visual_behavior_ophys_cache_dir\").expanduser().resolve()\n",
    "bc = bpc.VisualBehaviorOphysProjectCache.from_s3_cache(cache_dir=output_dir)\n",
    "experiment_table = bc.get_ophys_experiment_table()    "
   ]
  },
  {
   "cell_type": "markdown",
   "id": "787a4d1c-29fa-4db9-9d2b-728c63ce788f",
   "metadata": {},
   "source": [
    "<div>\n",
    "<img src=\"https://allensdk.readthedocs.io/en/latest/_static/visual_behavior_2p/data_structure.png\", width=\"900\"/>\n",
    "</div>"
   ]
  },
  {
   "cell_type": "code",
   "execution_count": 7,
   "id": "025b14f7-8084-4d5b-a944-4a8a5fd514d9",
   "metadata": {},
   "outputs": [],
   "source": [
    "## we have four datasets to choose from\n",
    "experiment_table.project_code.unique()\n",
    "\n",
    "vb_experiments = experiment_table.query('project_code == \"VisualBehavior\"')"
   ]
  },
  {
   "cell_type": "markdown",
   "id": "e9dacf64-ad5f-487f-b595-41bcfd519573",
   "metadata": {},
   "source": [
    "## Why we chose VB experiments\n",
    "\n",
    "We chose the simplest dataset to have some results in the short timeframe of NMA. However, there are more expansive datasets to be used"
   ]
  },
  {
   "cell_type": "markdown",
   "id": "d15b6693-b1c2-4980-b481-dacfd4688a6d",
   "metadata": {},
   "source": [
    "<img src=\"https://allenswdb.github.io/_images/vbo_dataset_variants.png\">"
   ]
  },
  {
   "cell_type": "markdown",
   "id": "0bb7466b-951a-488a-a990-4d5f6a21493b",
   "metadata": {},
   "source": [
    "# Choose a single mouse to work with"
   ]
  },
  {
   "cell_type": "markdown",
   "id": "89300c08-d5fe-4b0c-b4f1-2b35c1c5a180",
   "metadata": {},
   "source": [
    "### Do all mice have the same number of experiments\n",
    "\n",
    "Q) why do some mice have 11 experiment and others have 4??\n",
    "\n",
    "A) some mice have repeated some days (eg OPHYS_1_A) and others have skipped other days (eg OPHYS_3_A)"
   ]
  },
  {
   "cell_type": "code",
   "execution_count": 8,
   "id": "10518a92-f65e-4990-93df-bedeb6928e66",
   "metadata": {},
   "outputs": [
    {
     "data": {
      "text/plain": [
       "Text(0.5, 1.0, 'Histogram of number of experiments per mouse (n=37)')"
      ]
     },
     "execution_count": 8,
     "metadata": {},
     "output_type": "execute_result"
    },
    {
     "data": {
      "image/png": "[encoded data removed]",
      "text/plain": [
       "<Figure size 640x480 with 1 Axes>"
      ]
     },
     "metadata": {},
     "output_type": "display_data"
    }
   ],
   "source": [
    "from pprint import pprint\n",
    "from collections import Counter\n",
    "\n",
    "sorted_mice_ids = sorted(vb_experiments.mouse_id.unique())\n",
    "num_experiments_per_mouse = [len(vb_experiments.query('mouse_id == @mouse_id')) for mouse_id in sorted_mice_ids]\n",
    "\n",
    "c = Counter(num_experiments_per_mouse)\n",
    "xs = sorted(c.keys())\n",
    "\n",
    "plt.bar(xs, [c[x] for x in xs])\n",
    "plt.xlabel('Number of experiments performed')\n",
    "plt.ylabel('Number of mice')\n",
    "plt.title(f\"Histogram of number of experiments per mouse (n={len(sorted_mice_ids)})\")"
   ]
  },
  {
   "cell_type": "markdown",
   "id": "e668447d-4836-4534-8a01-dda9fea1c7ab",
   "metadata": {},
   "source": [
    "### Let's only take mice with 6 experiments"
   ]
  },
  {
   "cell_type": "code",
   "execution_count": 90,
   "id": "c0c3790c-131a-4a5c-84ba-1c2f1094c33d",
   "metadata": {},
   "outputs": [
    {
     "name": "stdout",
     "output_type": "stream",
     "text": [
      "412036\n"
     ]
    }
   ],
   "source": [
    "cond = lambda id: len(vb_experiments.query('mouse_id == @id')) == 6\n",
    "mice_with_6_experiments = list(filter(cond, sorted_mice_ids))\n",
    "\n",
    "mouse1 = mice_with_6_experiments[0]\n",
    "print(mouse1)\n",
    "\n",
    "mouse2 = mice_with_6_experiments[1]"
   ]
  },
  {
   "cell_type": "markdown",
   "id": "dd18d31e-354a-4cba-808f-902526e4a8c1",
   "metadata": {},
   "source": [
    "# The pipeline (Mukund)\n",
    "\n",
    "We will now make a pipeline to extract everything for a simple mouse\n",
    "\n",
    "input: mouse_id\n",
    "\n",
    "output: X,y to pass to scikit-learn and friends (X = design matrix, y = labels)"
   ]
  },
  {
   "cell_type": "markdown",
   "id": "4d12c3e2-3723-4b89-a2e9-a0dccc56eb06",
   "metadata": {},
   "source": [
    "## helpers"
   ]
  },
  {
   "cell_type": "code",
   "execution_count": 19,
   "id": "de293987-fcab-4970-816e-484cee6a71dd",
   "metadata": {},
   "outputs": [],
   "source": [
    "# gets the tidy dff traces FOR A SINGLE EXPERIMENT\n",
    "def make_tidy(exp):\n",
    "    def get_cell_timeseries_dict(dataset, cell_specimen_id):\n",
    "        '''\n",
    "        for a given cell_specimen ID, this function creates a dictionary with the following keys\n",
    "        * timestamps: ophys timestamps\n",
    "        * cell_roi_id\n",
    "        * cell_specimen_id\n",
    "        * dff\n",
    "        This is useful for generating a tidy dataframe\n",
    "        arguments:\n",
    "            session object\n",
    "            cell_specimen_id\n",
    "        returns\n",
    "            dict\n",
    "        '''\n",
    "        cell_dict = {\n",
    "            'timestamps': dataset.ophys_timestamps,\n",
    "            'cell_roi_id': [dataset.dff_traces.loc[cell_specimen_id]['cell_roi_id']] * len(dataset.ophys_timestamps),\n",
    "            'cell_specimen_id': [cell_specimen_id] * len(dataset.ophys_timestamps),\n",
    "            'dff': dataset.dff_traces.loc[cell_specimen_id]['dff'],\n",
    "    \n",
    "        }\n",
    "        return cell_dict\n",
    "    \n",
    "    tidy_dff_traces = pd.concat(\n",
    "        [\n",
    "            pd.DataFrame(get_cell_timeseries_dict(exp, cell_specimen_id)) \n",
    "            for cell_specimen_id in exp.dff_traces.reset_index()['cell_specimen_id']\n",
    "        ]\n",
    "    ).reset_index(drop=True)\n",
    "\n",
    "    return tidy_dff_traces\n",
    "\n",
    "\n",
    "# returns a dict containing all the experiment data for mouse_id\n",
    "# we only keep data from active imaging days\n",
    "def get_experiments(mouse_id: int) -> dict[str, _]:\n",
    "    # returns a dict containing all the experiment data for mouse_id\n",
    "    # we only keep data from active imaging days\n",
    "    \n",
    "    print(f\"getting experiments for {mouse_id=} from vb_experiments\")\n",
    "    print(f\"only keeping data from active imaging days\")\n",
    "    \n",
    "    experiment_ids = vb_experiments.query('mouse_id == @mouse_id & behavior_type == \"active_behavior\"').index\n",
    "    \n",
    "    d = {exp_id: None for exp_id in experiment_ids}\n",
    "    for exp_id in experiment_ids:\n",
    "        exp = bc.get_behavior_ophys_experiment(exp_id)\n",
    "        exp.tidy_dff = make_tidy(exp)\n",
    "        d[exp_id] = exp\n",
    "\n",
    "    return d\n",
    "\n",
    "\n",
    "def make_colormap(exp):\n",
    "    stimulus_presentations = exp.stimulus_presentations\n",
    "    unique_stimuli = [stimulus for stimulus in stimulus_presentations['image_name'].unique() if stimulus != 'omitted']\n",
    "    colormap = {image_name: sns.color_palette()[image_number] for image_number, image_name in enumerate(np.sort(unique_stimuli))}\n",
    "    colormap['omitted'] = np.nan \n",
    "    return colormap\n",
    "\n",
    "\n",
    "def stimuli_for_single_trial(exp, trial):\n",
    "    simple_stim = exp.stimulus_presentations.query('image_index != -99') # remove the start and end movies\n",
    "    return simple_stim.query('start_time >= {} and end_time <= {} '.format(float(trial.start_time), float(trial.stop_time)))\n",
    "\n",
    "\n",
    "def dff_for_single_trial(exp, trial):\n",
    "    return exp.tidy_dff.query('timestamps >= {} and timestamps <= {} '.format(float(trial.start_time), float(trial.change_time)))\n",
    "\n",
    "\n",
    "def eye_tracking_data_for_single_trial(exp, trial):\n",
    "    data = exp.eye_tracking.query('timestamps >= {} and timestamps <= {} '.format(float(trial.start_time), float(trial.change_time)))\n",
    "\n",
    "    cols_with_raw_values = [x for x in exp.eye_tracking.columns if x.endswith('_raw')]\n",
    "    \n",
    "    cols_to_drop = ['timestamps', 'likely_blink']\n",
    "    cols_to_drop.extend(cols_with_raw_values)\n",
    "\n",
    "    filtered = data.drop(columns = ['timestamps', 'likely_blink'], axis=1)\n",
    "    \n",
    "    return filtered"
   ]
  },
  {
   "attachments": {},
   "cell_type": "markdown",
   "id": "64e0e49c-0c99-493d-a937-2c5a49aa038f",
   "metadata": {},
   "source": [
    "## load some data"
   ]
  },
  {
   "cell_type": "code",
   "execution_count": 20,
   "id": "bff7451f-94f2-4e00-8432-2e1de87dd9a5",
   "metadata": {},
   "outputs": [
    {
     "name": "stdout",
     "output_type": "stream",
     "text": [
      "getting experiments for mouse_id='412036' from vb_experiments\n",
      "only keeping data from active imaging days\n"
     ]
    }
   ],
   "source": [
    "m1_data = get_experiments(mouse1)"
   ]
  },
  {
   "cell_type": "code",
   "execution_count": 21,
   "id": "e106a512-2d1f-4092-8246-791dbb343ccf",
   "metadata": {},
   "outputs": [],
   "source": [
    "# used for quick prototyping\n",
    "def play():\n",
    "    exp = list(m1_data.values())[0]\n",
    "    trials = exp.trials.query('aborted == False')\n",
    "    return exp, trials"
   ]
  },
  {
   "cell_type": "markdown",
   "id": "cc47d7a2-401d-4567-b729-8be575fca861",
   "metadata": {},
   "source": [
    "### what info do we have on each experiment\n",
    "\n",
    "Which data would be good as predictors for trial outcome?\n",
    "\n",
    "- neural activity\n",
    "    - per cell type, per region, per imaging depth\n",
    "- the decision strategy of the mouse\n",
    "- physiological arousal (derived from movement and pupil data)\n",
    "- familiarity and novelty of each stimulus\n",
    "- expectation of upcoming change\n",
    "- reward history\n",
    "- neural noise\n",
    "\n",
    "For simplicity, we only used neural activity in this notebook. Since we used the Visual Behavior dataset, we only have one cell type and one imaging depth."
   ]
  },
  {
   "cell_type": "code",
   "execution_count": 16,
   "id": "815a787f-9dad-4b7e-a750-5b0a705884cb",
   "metadata": {},
   "outputs": [
    {
     "data": {
      "text/plain": [
       "['average_projection',\n",
       " 'behavior_session_id',\n",
       " 'cell_specimen_table',\n",
       " 'corrected_fluorescence_traces',\n",
       " 'demixed_traces',\n",
       " 'dff_traces',\n",
       " 'events',\n",
       " 'eye_tracking',\n",
       " 'eye_tracking_rig_geometry',\n",
       " 'get_cell_specimen_ids',\n",
       " 'get_cell_specimen_indices',\n",
       " 'get_dff_traces',\n",
       " 'get_performance_metrics',\n",
       " 'get_reward_rate',\n",
       " 'get_rolling_performance_df',\n",
       " 'get_segmentation_mask_image',\n",
       " 'licks',\n",
       " 'max_projection',\n",
       " 'metadata',\n",
       " 'motion_correction',\n",
       " 'neuropil_traces',\n",
       " 'ophys_experiment_id',\n",
       " 'ophys_session_id',\n",
       " 'ophys_timestamps',\n",
       " 'raw_running_speed',\n",
       " 'rewards',\n",
       " 'roi_masks',\n",
       " 'running_speed',\n",
       " 'segmentation_mask_image',\n",
       " 'stimulus_presentations',\n",
       " 'stimulus_templates',\n",
       " 'stimulus_timestamps',\n",
       " 'task_parameters',\n",
       " 'tidy_dff',\n",
       " 'trials',\n",
       " 'update_targeted_imaging_depth']"
      ]
     },
     "execution_count": 16,
     "metadata": {},
     "output_type": "execute_result"
    }
   ],
   "source": [
    "m1_data[792815735].list_data_attributes_and_methods()"
   ]
  },
  {
   "cell_type": "markdown",
   "id": "ad5c6bac-a1a3-4d90-8270-1b50b5f9821c",
   "metadata": {
    "jp-MarkdownHeadingCollapsed": true
   },
   "source": [
    "### mouse stats\n",
    "\n",
    "Let's do a simple plot of the mouse's trial outcomes"
   ]
  },
  {
   "cell_type": "code",
   "execution_count": 54,
   "id": "36b7939f-72c1-4e33-938e-65a025b11cb4",
   "metadata": {},
   "outputs": [
    {
     "data": {
      "image/png": "[encoded data removed]",
      "text/plain": [
       "<Figure size 1000x600 with 1 Axes>"
      ]
     },
     "metadata": {},
     "output_type": "display_data"
    }
   ],
   "source": [
    "my_labels = ['hit', 'false_alarm', 'miss', 'correct_reject']\n",
    "\n",
    "def mouse_stats(mouse_data, mouse_id):\n",
    "    d = dict()\n",
    "    for exp_index, (exp_id, exp) in enumerate(mouse_data.items()):\n",
    "        trials = exp.trials.query('aborted == False')\n",
    "        unique_cell_ids = exp.tidy_dff.cell_specimen_id.unique()\n",
    "\n",
    "        z = dict()\n",
    "        for label in my_labels:\n",
    "            z[label] = len(trials.query(label))           \n",
    "            \n",
    "        d[exp_index] = (z, exp_id)\n",
    "\n",
    "    return d\n",
    "\n",
    "\n",
    "def plot_mouse_stats(stats):\n",
    "    xs = list(stats.keys())\n",
    "    \n",
    "    plt.figure(figsize=(10, 6))\n",
    "    \n",
    "    for l in my_labels:\n",
    "        y_values = [stats[key][0][l] for key in x_values]\n",
    "        plt.plot(xs, y_values, label=l, marker='o', linestyle='-')\n",
    "    \n",
    "    plt.xlabel('Experiment Id')\n",
    "    plt.ylabel('Counts')\n",
    "    plt.title(f\"Mouse behaviour across 4 experiments (mouse_id={mouse1})\")\n",
    "    \n",
    "    xtick_labels = [stats[key][1] for key in x_values]\n",
    "    plt.xticks(x_values, xtick_labels)\n",
    "    \n",
    "    plt.legend()\n",
    "    plt.grid(True)\n",
    "    plt.show()\n",
    "\n",
    "m1_stats = mouse_stats(m1_data, mouse1)\n",
    "plot_mouse_stats(m1_stats) "
   ]
  },
  {
   "cell_type": "markdown",
   "id": "c7f3cd42-5b17-4697-8d71-80cb18f38b29",
   "metadata": {},
   "source": [
    "## create design matrix and labels"
   ]
  },
  {
   "cell_type": "code",
   "execution_count": 50,
   "id": "4fef820e-d8f1-4058-b2e6-5d6fc6d4f4d0",
   "metadata": {},
   "outputs": [],
   "source": [
    "exp, trials = play()"
   ]
  },
  {
   "cell_type": "markdown",
   "id": "f0823f47-dc57-4802-a102-7f71d0890566",
   "metadata": {
    "jp-MarkdownHeadingCollapsed": true
   },
   "source": [
    "### make the design matrix"
   ]
  },
  {
   "cell_type": "code",
   "execution_count": 1578,
   "id": "ce969583-adbc-4a5d-89a1-6afcd1c26e39",
   "metadata": {},
   "outputs": [],
   "source": [
    "def silly_feature_extractor(exp, trial):\n",
    "    dff = dff_for_single_trial(exp, trial)\n",
    "    \n",
    "    ## this is very silly\n",
    "    feature = dff.dff.mean()\n",
    "\n",
    "    return np.array([feature])\n",
    "\n",
    "my_labels = ['hit', 'false_alarm', 'miss', 'correct_reject']\n",
    "\n",
    "def make_Xy(mouse_data, mouse_id):\n",
    "    # the simplest one means only 1 feature per trial\n",
    "    # and only 1 experiment\n",
    "\n",
    "    all_cell_specimen_ids = np.concatenate(\n",
    "        list(exp.tidy_dff.cell_specimen_id.unique() for exp in mouse_data.values())\n",
    "    )\n",
    "    unique_cell_specimen_ids = np.unique(all_cell_specimen_ids)\n",
    "    num_unique_cell_specimen_ids = len(unique_cell_specimen_ids)\n",
    "\n",
    "    num_extras = 1 + 21\n",
    "    num_features = num_unique_cell_specimen_ids + num_extras\n",
    "    \n",
    "    y = np.empty((0, len(my_labels)))\n",
    "    X = np.empty((0, num_features))\n",
    "\n",
    "    y_cands = []\n",
    "    X_cands = []\n",
    "    \n",
    "    for exp_index, (exp_id, exp) in enumerate(mouse_data.items()):            \n",
    "        trials = exp.trials.query('aborted == False')\n",
    "        trial_labels = trials[my_labels].astype(int).reset_index(drop=True).to_numpy()\n",
    "        \n",
    "        y_cands.append(trial_labels)\n",
    "\n",
    "        shape = (len(trials), num_features)\n",
    "        print(shape)\n",
    "        X_exp = np.zeros(shape)\n",
    "        \n",
    "        for (trial_index, (_, trial)) in enumerate(trials.iterrows()):\n",
    "            feature_vec = np.zeros((num_features))\n",
    "\n",
    "            # feature vec is mean dff for each cell_specimen_id\n",
    "            dff = dff_for_single_trial(exp, trial)\n",
    "            dff = exp.tidy_dff.query('timestamps >= {} and timestamps <= {} '.format(float(trial.start_time), float(trial.change_time)))\n",
    "\n",
    "            for cell_index, cell_id in enumerate(unique_cell_specimen_ids):\n",
    "               feature_vec[cell_index] = dff.query('cell_specimen_id == @cell_id')['dff'].mean()\n",
    "\n",
    "            offset = num_unique_cell_specimen_ids\n",
    "            \n",
    "            running_speed = exp.running_speed.query('timestamps >= {} and timestamps <= {} '.format(float(trial.start_time), float(trial.change_time)))\n",
    "            feature_vec[offset] = running_speed.speed.mean()\n",
    "\n",
    "            eye_tracking = eye_tracking_data_for_single_trial(exp, trial)\n",
    "            feature_vec[offset + 1 : ] = eye_tracking.mean().to_numpy()\n",
    "\n",
    "            X_exp[trial_index, :] = feature_vec\n",
    "        \n",
    "        X_cands.append(X_exp)\n",
    "\n",
    "    y = np.vstack(y_cands)\n",
    "    X = np.vstack(X_cands)\n",
    "\n",
    "    return X,y"
   ]
  },
  {
   "cell_type": "markdown",
   "id": "3cba9cae-e7d1-473c-9e48-43c29b5df90e",
   "metadata": {},
   "source": [
    "### make the design matrix (v2)"
   ]
  },
  {
   "cell_type": "markdown",
   "id": "82830df9-9664-4251-8cc4-8cd28e01fa61",
   "metadata": {
    "jp-MarkdownHeadingCollapsed": true
   },
   "source": [
    "##### some notes"
   ]
  },
  {
   "cell_type": "raw",
   "id": "7d343ec4-6b66-4f09-82a4-2d7765ba8a79",
   "metadata": {},
   "source": [
    "# looking at one trial\n",
    "\n",
    "X.shape = (N, k)\n",
    "N = num samples\n",
    "k = num features_per sample\n",
    "\n",
    "y.shape = (N, 4)\n",
    "4 categories\n",
    "\n",
    "\"can we train a classifier to predict the outcome of one trial based on a single sample?\"\n",
    "\n",
    "v1:\n",
    "k = 82\n",
    "N = num_trials\n",
    "sample = [mean dff for each of 60 cells, mean_runspeed, mean of all pupil data]\n",
    "this didnt work because mean_dff has many NaN values, and mean of pupil data is sometimes missing in the dataset\n",
    "\n",
    "v2:\n",
    "k = 1\n",
    "N = num_trials * num_cell_ids_per_trial\n",
    "sample = [mean dff per cell id]\n",
    "\n",
    "v3:\n",
    "k = 1\n",
    "N = num_trials * num_cell_ids_per_trial * 4\n",
    "sample = [mean dff per cell id across 4 chunks of trial]"
   ]
  },
  {
   "cell_type": "markdown",
   "id": "4c06d833-b3f3-467c-bc7e-2c405937362d",
   "metadata": {},
   "source": [
    "##### actually making the matrix"
   ]
  },
  {
   "cell_type": "code",
   "execution_count": null,
   "id": "7fa2efeb-aa8b-4d75-b48f-7551acd82730",
   "metadata": {},
   "outputs": [],
   "source": [
    "my_labels = ['hit', 'false_alarm', 'miss', 'correct_reject']\n",
    "\n",
    "def make_Xy(mouse_data, mouse_id, quick = False):\n",
    "    y_cands = []\n",
    "    X_cands = []\n",
    "    all_categorical_data = []\n",
    "\n",
    "    for exp_index, (exp_id, exp) in enumerate(mouse_data.items()):\n",
    "        #if exp_index > 0:\n",
    "            #continue\n",
    "\n",
    "        print(f\"starting trial {exp_index=} with {exp_id=}\")\n",
    "        \n",
    "        trials = exp.trials.query('aborted == False')\n",
    "        unique_cell_ids = exp.tidy_dff.cell_specimen_id.unique()\n",
    "\n",
    "        if quick:\n",
    "            trial_n = 10\n",
    "            trial_iter = tqdm(enumerate(itertools.islice(trials.iterrows(), trial_n)), desc='trials', total=trial_n)\n",
    "        else:\n",
    "            trial_iter = tqdm(enumerate(trials.iterrows()), desc='trials', total=len(trials))\n",
    "\n",
    "        for (trial_index, (trial_id, trial)) in trial_iter:\n",
    "            label = trial[my_labels].astype(int).reset_index(drop=True).to_numpy()\n",
    "            if label.ndim == 1:\n",
    "                label = label.reshape(1, -1)\n",
    "\n",
    "            t_start = float(trial.start_time)\n",
    "            t_change = float(trial.change_time)\n",
    "            trial_df = exp.tidy_dff.query(\n",
    "                'timestamps >= @t_start and timestamps <= @t_change'\n",
    "            )\n",
    "\n",
    "            num_samples = 0\n",
    "\n",
    "            for cell_specimen_id in unique_cell_ids:\n",
    "                # dff traces for this trial and this specific cell id\n",
    "                df = trial_df.query('cell_specimen_id == @cell_specimen_id')\n",
    "\n",
    "\n",
    "                # relevant columns\n",
    "                data = df[['dff', 'timestamps']].to_numpy()\n",
    "\n",
    "            \n",
    "                # normalize timestamps to trial start time\n",
    "                data[:,1] -= t_start\n",
    "                \n",
    "                X_cands.append(data)\n",
    "                num_samples += data.shape[0]\n",
    "\n",
    "                categorical_data = np.array([exp_id, trial_id, cell_specimen_id]).reshape(1, -1)\n",
    "                categorical_data = categorical_data.repeat(data.shape[0], axis=0)\n",
    "                all_categorical_data.append(categorical_data)\n",
    "\n",
    "            labels_for_trial = label.repeat(num_samples, axis=0)\n",
    "            y_cands.append(labels_for_trial)\n",
    "            \n",
    "    y = np.vstack(y_cands)\n",
    "    X = np.vstack(X_cands)\n",
    "    all_categorical_data = np.vstack(all_categorical_data)\n",
    "\n",
    "    encoder = OneHotEncoder()\n",
    "    encoded_data = encoder.fit_transform(all_categorical_data)\n",
    "    encoded_data_array = encoded_data.toarray()\n",
    "\n",
    "    print(X.shape, encoded_data_array.shape, len(all_categorical_data))\n",
    "    \n",
    "    X = np.hstack((X, encoded_data_array))\n",
    "\n",
    "    if quick:\n",
    "        print(\"WARNING: quick=True, only used limited subset of data\")\n",
    "\n",
    "    # we return the encoder so that we can reverse the encoding later for explanations\n",
    "    return X,y, encoder"
   ]
  },
  {
   "cell_type": "markdown",
   "id": "9f639436-afb7-47af-9027-e30e140537c5",
   "metadata": {
    "jp-MarkdownHeadingCollapsed": true
   },
   "source": [
    "##### sanity check"
   ]
  },
  {
   "cell_type": "code",
   "execution_count": 52,
   "id": "c0386233-ff84-46dc-8cb0-72dfd57cb2b7",
   "metadata": {},
   "outputs": [
    {
     "name": "stdout",
     "output_type": "stream",
     "text": [
      "starting trial exp_index=0 with exp_id=792815735\n"
     ]
    },
    {
     "data": {
      "application/vnd.jupyter.widget-view+json": {
       "model_id": "bb29b4d953634b6f906ed5d973e14bbf",
       "version_major": 2,
       "version_minor": 0
      },
      "text/plain": [
       "trials:   0%|          | 0/10 [00:00<?, ?it/s]"
      ]
     },
     "metadata": {},
     "output_type": "display_data"
    },
    {
     "name": "stdout",
     "output_type": "stream",
     "text": [
      "starting trial exp_index=1 with exp_id=795073741\n"
     ]
    },
    {
     "data": {
      "application/vnd.jupyter.widget-view+json": {
       "model_id": "c39a9189b42d47eda2c84c9cf232d816",
       "version_major": 2,
       "version_minor": 0
      },
      "text/plain": [
       "trials:   0%|          | 0/10 [00:00<?, ?it/s]"
      ]
     },
     "metadata": {},
     "output_type": "display_data"
    },
    {
     "name": "stdout",
     "output_type": "stream",
     "text": [
      "starting trial exp_index=2 with exp_id=795953296\n"
     ]
    },
    {
     "data": {
      "application/vnd.jupyter.widget-view+json": {
       "model_id": "368a61281fa74a9c8ba78db18f4889b5",
       "version_major": 2,
       "version_minor": 0
      },
      "text/plain": [
       "trials:   0%|          | 0/10 [00:00<?, ?it/s]"
      ]
     },
     "metadata": {},
     "output_type": "display_data"
    },
    {
     "name": "stdout",
     "output_type": "stream",
     "text": [
      "starting trial exp_index=3 with exp_id=796308505\n"
     ]
    },
    {
     "data": {
      "application/vnd.jupyter.widget-view+json": {
       "model_id": "73a57307d8f34571b6d29d65d0790964",
       "version_major": 2,
       "version_minor": 0
      },
      "text/plain": [
       "trials:   0%|          | 0/10 [00:00<?, ?it/s]"
      ]
     },
     "metadata": {},
     "output_type": "display_data"
    },
    {
     "name": "stdout",
     "output_type": "stream",
     "text": [
      "(196620, 2) (196620, 95) 196620\n",
      "WARNING: quick=True, only used limited subset of data\n",
      "CPU times: user 1.44 s, sys: 347 ms, total: 1.79 s\n",
      "Wall time: 1.28 s\n"
     ]
    }
   ],
   "source": [
    "%time X, y, encoder = make_Xy(m1_data, mouse1, quick=True)\n",
    "assert X.shape[0] == y.shape[0]"
   ]
  },
  {
   "cell_type": "markdown",
   "id": "b8e7410d-feb4-4996-ad97-087fd66fe03a",
   "metadata": {},
   "source": [
    "### populate X,y"
   ]
  },
  {
   "cell_type": "code",
   "execution_count": 53,
   "id": "e3f2c9a8-60e0-4d63-95b7-bc0c54c72577",
   "metadata": {},
   "outputs": [
    {
     "name": "stdout",
     "output_type": "stream",
     "text": [
      "starting trial exp_index=0 with exp_id=792815735\n"
     ]
    },
    {
     "data": {
      "application/vnd.jupyter.widget-view+json": {
       "model_id": "e8853e6e00f54727bb0aa11c52fd7b51",
       "version_major": 2,
       "version_minor": 0
      },
      "text/plain": [
       "trials:   0%|          | 0/188 [00:00<?, ?it/s]"
      ]
     },
     "metadata": {},
     "output_type": "display_data"
    },
    {
     "name": "stdout",
     "output_type": "stream",
     "text": [
      "starting trial exp_index=1 with exp_id=795073741\n"
     ]
    },
    {
     "data": {
      "application/vnd.jupyter.widget-view+json": {
       "model_id": "7be5f3b6b1274cc1a90c0c67ca62283b",
       "version_major": 2,
       "version_minor": 0
      },
      "text/plain": [
       "trials:   0%|          | 0/112 [00:00<?, ?it/s]"
      ]
     },
     "metadata": {},
     "output_type": "display_data"
    },
    {
     "name": "stdout",
     "output_type": "stream",
     "text": [
      "starting trial exp_index=2 with exp_id=795953296\n"
     ]
    },
    {
     "data": {
      "application/vnd.jupyter.widget-view+json": {
       "model_id": "c39953dc4925441789203ac49d5957dc",
       "version_major": 2,
       "version_minor": 0
      },
      "text/plain": [
       "trials:   0%|          | 0/243 [00:00<?, ?it/s]"
      ]
     },
     "metadata": {},
     "output_type": "display_data"
    },
    {
     "name": "stdout",
     "output_type": "stream",
     "text": [
      "starting trial exp_index=3 with exp_id=796308505\n"
     ]
    },
    {
     "data": {
      "application/vnd.jupyter.widget-view+json": {
       "model_id": "91bc860e88d74d3687cd8d17ab2fa6aa",
       "version_major": 2,
       "version_minor": 0
      },
      "text/plain": [
       "trials:   0%|          | 0/225 [00:00<?, ?it/s]"
      ]
     },
     "metadata": {},
     "output_type": "display_data"
    },
    {
     "name": "stdout",
     "output_type": "stream",
     "text": [
      "(3737674, 2) (3737674, 644) 3737674\n",
      "CPU times: user 26.5 s, sys: 12.5 s, total: 39 s\n",
      "Wall time: 33 s\n"
     ]
    },
    {
     "data": {
      "text/plain": [
       "((3737674, 646), (3737674, 4))"
      ]
     },
     "execution_count": 53,
     "metadata": {},
     "output_type": "execute_result"
    }
   ],
   "source": [
    "%time X, y, encoder = make_Xy(m1_data, mouse1, quick=False)\n",
    "X.shape, y.shape"
   ]
  },
  {
   "cell_type": "markdown",
   "id": "ec47d030-80fc-4fe1-a8b7-dd03d94cfed5",
   "metadata": {},
   "source": [
    "##### what exactly is in our design matrix"
   ]
  },
  {
   "cell_type": "code",
   "execution_count": 68,
   "id": "51ebe5d6-c523-4c35-9137-9f90b999d141",
   "metadata": {},
   "outputs": [],
   "source": [
    "def decode_row(row: np.array, encoder: sklearn.preprocessing.OneHotEncoder):\n",
    "    assert row.ndim == 1\n",
    "\n",
    "    dff_value = row[0]\n",
    "    offset = row[1]\n",
    "    \n",
    "    decoded = encoder.inverse_transform(row[2:].reshape(1,-1))\n",
    "    \n",
    "    experiment_id = decoded[0][0]\n",
    "    trial_id = decoded[0][1]\n",
    "    cell_specimen_id = decoded[0][2]\n",
    "\n",
    "    print(f\"this row represents {dff_value=} taken {offset} seconds after trial start\")\n",
    "    print(f\"this data comes from {experiment_id=}, {trial_id=}, {cell_specimen_id=}\")"
   ]
  },
  {
   "cell_type": "code",
   "execution_count": 91,
   "id": "575b15dd-cf35-4ef7-ae48-1cbd5d60d2df",
   "metadata": {},
   "outputs": [
    {
     "name": "stdout",
     "output_type": "stream",
     "text": [
      "decoding first row\n",
      "this row represents dff_value=-0.008969936519861221 taken 0.04931999999996606 seconds after trial start\n",
      "this data comes from experiment_id=792815735, trial_id=0, cell_specimen_id=1086490397\n"
     ]
    }
   ],
   "source": [
    "print(\"decoding first row\")\n",
    "decode_row(X[1], encoder)"
   ]
  },
  {
   "cell_type": "code",
   "execution_count": 92,
   "id": "843dd04d-39c7-427c-a0f0-f8dbf2cccb77",
   "metadata": {},
   "outputs": [
    {
     "name": "stdout",
     "output_type": "stream",
     "text": [
      "decoding last row\n",
      "this row represents dff_value=0.027754489332437515 taken 3.7678399999999783 seconds after trial start\n",
      "this data comes from experiment_id=796308505, trial_id=738, cell_specimen_id=1086490790\n"
     ]
    }
   ],
   "source": [
    "print(\"decoding last row\")\n",
    "decode_row(X[-1], encoder)"
   ]
  },
  {
   "cell_type": "markdown",
   "id": "d62c0cb0-433f-4934-8a33-e6ce6e2b8d47",
   "metadata": {},
   "source": [
    "## lets fit some models!!"
   ]
  },
  {
   "cell_type": "markdown",
   "id": "57993b68-1c03-4a6a-977c-3d01fd7dca9d",
   "metadata": {
    "jp-MarkdownHeadingCollapsed": true
   },
   "source": [
    "#### good candidates for slides"
   ]
  },
  {
   "cell_type": "code",
   "execution_count": 1804,
   "id": "3d73a54d-1f02-4b9b-80c9-39a4fbdc9f24",
   "metadata": {},
   "outputs": [
    {
     "name": "stdout",
     "output_type": "stream",
     "text": [
      "Encoded data:\n",
      "[[1. 0. 0. 0. 1.]\n",
      " [0. 1. 0. 1. 0.]\n",
      " [0. 1. 1. 0. 0.]\n",
      " [1. 0. 0. 0. 1.]]\n",
      "[[1.60787157 1.         0.         0.         0.         1.        ]\n",
      " [1.84834802 0.         1.         0.         1.         0.        ]\n",
      " [1.36171385 0.         1.         1.         0.         0.        ]\n",
      " [5.06478685 1.         0.         0.         0.         1.        ]]\n"
     ]
    }
   ],
   "source": [
    "from sklearn.preprocessing import OneHotEncoder\n",
    "\n",
    "# Example categorical data\n",
    "categorical_data = [['cat', 'small'],\n",
    "                    ['dog', 'medium'],\n",
    "                    ['dog', 'large'],\n",
    "                    ['cat', 'small']]\n",
    "\n",
    "# Create an instance of OneHotEncoder\n",
    "encoder = OneHotEncoder()\n",
    "\n",
    "# Fit the encoder on the categorical data and transform it\n",
    "encoded_data = encoder.fit_transform(categorical_data)\n",
    "\n",
    "# Convert the sparse matrix to a dense array for visualization\n",
    "encoded_data_array = encoded_data.toarray()\n",
    "\n",
    "\n",
    "print(\"Encoded data:\")\n",
    "print(encoded_data_array)\n",
    "\n",
    "temps = np.random.rand(4, 1) * 10\n",
    "temps\n",
    "\n",
    "print(np.hstack((temps, encoded_data_array)))"
   ]
  },
  {
   "cell_type": "markdown",
   "id": "bfcd4ff5-788f-48ae-957b-1d4d4af39565",
   "metadata": {
    "jp-MarkdownHeadingCollapsed": true
   },
   "source": [
    "#### imputation adventures"
   ]
  },
  {
   "cell_type": "code",
   "execution_count": 2172,
   "id": "440e0f53-cc6d-42c3-a181-2bfe5a48deb0",
   "metadata": {},
   "outputs": [],
   "source": [
    "def impute_by_mean(target_X):\n",
    "    new_X = copy.deepcopy(target_X)\n",
    "    for i in range(768):\n",
    "        myrow = new_X[i]\n",
    "        all_numeric_in_row = myrow[~np.isnan(myrow)].sum()\n",
    "        replacement = all_numeric_in_row.mean()\n",
    "        myrow[np.isnan(myrow)] = replacement\n",
    "\n",
    "    return new_X\n",
    "\n",
    "X3 = impute_by_mean(X)"
   ]
  },
  {
   "cell_type": "markdown",
   "id": "1a9161ea-b5d2-4f65-b9a6-08b5056fce51",
   "metadata": {},
   "source": [
    "### fit a classifier"
   ]
  },
  {
   "cell_type": "markdown",
   "id": "c5b8a7cd-3139-4994-8841-69e8d6fe1947",
   "metadata": {},
   "source": [
    "#### test/train split"
   ]
  },
  {
   "cell_type": "code",
   "execution_count": 55,
   "id": "8330e3a6-75f7-4f79-ba64-6fd2bb580b8a",
   "metadata": {},
   "outputs": [
    {
     "name": "stdout",
     "output_type": "stream",
     "text": [
      "CPU times: user 2.3 s, sys: 10.2 s, total: 12.5 s\n",
      "Wall time: 15.7 s\n"
     ]
    }
   ],
   "source": [
    "clf = linear_model.LogisticRegression(\n",
    "    penalty = 'l1',\n",
    "    multi_class = 'multinomial',\n",
    "    solver=\"saga\",\n",
    "    tol = 0.1,\n",
    ")\n",
    "\n",
    "y2 = np.argmax(y, axis = 1)\n",
    "%time X_train, X_test, y_train, y_test = train_test_split(X, y2, test_size=0.3, random_state=12)"
   ]
  },
  {
   "cell_type": "markdown",
   "id": "b463cd36-0a2c-4f71-9227-9b1dd46188bc",
   "metadata": {},
   "source": [
    "#### fit and predict"
   ]
  },
  {
   "cell_type": "code",
   "execution_count": 60,
   "id": "5ffe5acb-66d6-4ab6-bd7a-43012fc16f81",
   "metadata": {},
   "outputs": [
    {
     "name": "stdout",
     "output_type": "stream",
     "text": [
      "CPU times: user 1min 6s, sys: 11.4 s, total: 1min 18s\n",
      "Wall time: 1min 21s\n",
      "CPU times: user 4.24 s, sys: 801 ms, total: 5.04 s\n",
      "Wall time: 1.93 s\n"
     ]
    }
   ],
   "source": [
    "%time clf = clf.fit(X_train, y_train)\n",
    "%time y_pred = clf.predict(X_test)"
   ]
  },
  {
   "cell_type": "markdown",
   "id": "1c52afe4-478b-40d2-80d4-7c8e07b01978",
   "metadata": {},
   "source": [
    "#### basic scoring"
   ]
  },
  {
   "cell_type": "code",
   "execution_count": 62,
   "id": "cb80cb33-2e0c-4eeb-ab90-7410d87448cc",
   "metadata": {},
   "outputs": [
    {
     "name": "stdout",
     "output_type": "stream",
     "text": [
      "Accuracy with L1 penalty: 0.9502\n",
      "Sparsity with L1 penalty: 0.00%\n",
      "Test score with L1 penalty: 0.9502\n"
     ]
    }
   ],
   "source": [
    "l1_accuracy = accuracy_score(y_test, y_pred)\n",
    "l1_sparsity = np.mean(clf.coef_ == 0) * 100\n",
    "l1_score = clf.score(X_test, y_test)\n",
    "\n",
    "print(\"Accuracy with L1 penalty: %.4f\" % l1_accuracy)\n",
    "print(\"Sparsity with L1 penalty: %.2f%%\" % l1_sparsity)\n",
    "print(\"Test score with L1 penalty: %.4f\" % l1_score)"
   ]
  },
  {
   "cell_type": "markdown",
   "id": "3b6d1434-e3d9-44cd-9346-d8fe6ff347a6",
   "metadata": {},
   "source": [
    "#### confusion matrices"
   ]
  },
  {
   "cell_type": "markdown",
   "id": "7a442339-bd2d-47b2-9b4b-a6ff01dbaf61",
   "metadata": {},
   "source": [
    "##### Normalized across all values\n",
    "\n",
    "this means that `np.sum(cm) == 1`"
   ]
  },
  {
   "cell_type": "code",
   "execution_count": 63,
   "id": "bd14ad38-3032-4684-be0c-8d992e5da89f",
   "metadata": {},
   "outputs": [
    {
     "data": {
      "text/plain": [
       "<sklearn.metrics._plot.confusion_matrix.ConfusionMatrixDisplay at 0x282d91d50>"
      ]
     },
     "execution_count": 63,
     "metadata": {},
     "output_type": "execute_result"
    },
    {
     "data": {
      "image/png": "[encoded data removed]",
      "text/plain": [
       "<Figure size 640x480 with 2 Axes>"
      ]
     },
     "metadata": {},
     "output_type": "display_data"
    }
   ],
   "source": [
    "ConfusionMatrixDisplay.from_predictions(y_test, y_pred, display_labels=my_labels, normalize='all', include_values=True)"
   ]
  },
  {
   "cell_type": "markdown",
   "id": "a41199ea-0a00-44d1-badd-914f9cfd4d8c",
   "metadata": {},
   "source": [
    "##### Normalized across 'true' values\n",
    "\n",
    "this means that `np.sum(row) == 1 for row in cm`"
   ]
  },
  {
   "cell_type": "code",
   "execution_count": 69,
   "id": "a96a655a-4514-4184-a024-15c1dd182af7",
   "metadata": {},
   "outputs": [
    {
     "data": {
      "text/plain": [
       "<sklearn.metrics._plot.confusion_matrix.ConfusionMatrixDisplay at 0x373f85a90>"
      ]
     },
     "execution_count": 69,
     "metadata": {},
     "output_type": "execute_result"
    },
    {
     "data": {
      "image/png": "[encoded data removed]",
      "text/plain": [
       "<Figure size 640x480 with 2 Axes>"
      ]
     },
     "metadata": {},
     "output_type": "display_data"
    }
   ],
   "source": [
    "ConfusionMatrixDisplay.from_predictions(y_test, y_pred, display_labels=my_labels, normalize='true', include_values=True)"
   ]
  },
  {
   "cell_type": "markdown",
   "id": "6e538a3e-1355-4430-bc44-533d61fff7d0",
   "metadata": {},
   "source": [
    "# Conclusion (Sadiq)"
   ]
  },
  {
   "cell_type": "markdown",
   "id": "2461c27d-b4ef-4283-acec-891f62e25a3a",
   "metadata": {},
   "source": [
    "The good fit of the Logistic Regression shows that high accuracy is principally achievable with a linear model. \n",
    "\n",
    "The inclusion of trial-to-trial variation and cell-to-cell variation as dummy variables (via one-hot encoding) significantly improved out prediction accuracy. \n",
    "\n",
    "We would like to leverage the high interpretability of a linear model by adding in other features in future work to determine how they help predict trial outcome.\n",
    "\n",
    "These other features can be both measured (eg. running speed) or derived (eg. physiological arousal via pupil data). Further, we can leverage the other experimental setups (eg. VisualBehaviorMultiscope) to see the influence of imaging depth on prediction accuracy. \n",
    "\n",
    "Our work was only using data from a single mouse. Including data from all mice will allow us to draw conclusions abot the role of excitatory vs inhibitory cells, as well as different cortical regions."
   ]
  }
 ],
 "metadata": {
  "celltoolbar": "Tags",
  "interpreter": {
   "hash": "916dbcbb3f70747c44a77c7bcd40155683ae19c65e1c03b4aa3499c5328201f1"
  },
  "kernelspec": {
   "display_name": "Python 3 (ipykernel)",
   "language": "python",
   "name": "python3"
  },
  "language_info": {
   "codemirror_mode": {
    "name": "ipython",
    "version": 3
   },
   "file_extension": ".py",
   "mimetype": "text/x-python",
   "name": "python",
   "nbconvert_exporter": "python",
   "pygments_lexer": "ipython3",
   "version": "3.11.11"
  },
  "papermill": {
   "default_parameters": {},
   "duration": 70.74416,
   "end_time": "2023-11-30T06:09:41.011721",
   "environment_variables": {},
   "exception": null,
   "input_path": "doc_template/examples_root/examples/nb/visual_behavior_compare_across_trial_types.ipynb",
   "output_path": "/tmp/tmp_nkzxk6t/scratch_nb.ipynb",
   "parameters": {
    "output_dir": "/tmp/tmp_nkzxk6t",
    "resources_dir": "/home/runner/work/AllenSDK/AllenSDK/allensdk/internal/notebooks/resources"
   },
   "start_time": "2023-11-30T06:08:30.267561",
   "version": "2.4.0"
  }
 },
 "nbformat": 4,
 "nbformat_minor": 5
}
